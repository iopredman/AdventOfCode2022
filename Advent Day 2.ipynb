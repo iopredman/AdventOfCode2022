{
 "cells": [
  {
   "cell_type": "code",
   "execution_count": 26,
   "id": "081be2ea",
   "metadata": {},
   "outputs": [
    {
     "name": "stdout",
     "output_type": "stream",
     "text": [
      "10595\n"
     ]
    }
   ],
   "source": [
    "with open(\"AC22D2Key.txt\") as f:\n",
    "    line = f.readlines()\n",
    "for i in range(len(line)):\n",
    "    line[i] = line[i][:-1]\n",
    "#A = Rock, B = Paper, C = Scissors, X = Rock(1), Y = Paper(2), Z = Scissors(3)\n",
    "score = []\n",
    "for i in range(len(q)):\n",
    "    opp = line[i][0]\n",
    "    you = line[i][2]\n",
    "    if opp == 'A' and you == 'X':\n",
    "        score.append(4)\n",
    "    elif opp == 'A' and you == 'Y':\n",
    "        score.append(8)\n",
    "    elif opp == 'A' and you == 'Z':\n",
    "        score.append(3)\n",
    "    elif opp == 'B' and you == 'X':\n",
    "        score.append(1)\n",
    "    elif opp == 'B' and you == 'Y':\n",
    "        score.append(5)\n",
    "    elif opp == 'B' and you == 'Z':\n",
    "        score.append(9)\n",
    "    elif opp == 'C' and you == 'X':\n",
    "        score.append(7)\n",
    "    elif opp == 'C' and you == 'Y':\n",
    "        score.append(2)\n",
    "    elif opp == 'C' and you == 'Z':\n",
    "        score.append(6)\n",
    "    else:\n",
    "        break\n",
    "        print(\"error\")\n",
    "print(sum(score))"
   ]
  },
  {
   "cell_type": "code",
   "execution_count": 27,
   "id": "03b67b93",
   "metadata": {},
   "outputs": [
    {
     "name": "stdout",
     "output_type": "stream",
     "text": [
      "9541\n"
     ]
    }
   ],
   "source": [
    "#A = Rock, B = Paper, C = Scissors, Rock(1), Paper(2), Scissors(3), X = Lose, Y = Draw, Z = Win\n",
    "score2 = []\n",
    "for i in range(len(q)):\n",
    "    opp = line[i][0]\n",
    "    you = line[i][2]\n",
    "    if opp == 'A' and you == 'X':\n",
    "        score2.append(3)\n",
    "    elif opp == 'A' and you == 'Y':\n",
    "        score2.append(4)\n",
    "    elif opp == 'A' and you == 'Z':\n",
    "        score2.append(8)\n",
    "    elif opp == 'B' and you == 'X':\n",
    "        score2.append(1)\n",
    "    elif opp == 'B' and you == 'Y':\n",
    "        score2.append(5)\n",
    "    elif opp == 'B' and you == 'Z':\n",
    "        score2.append(9)\n",
    "    elif opp == 'C' and you == 'X':\n",
    "        score2.append(2)\n",
    "    elif opp == 'C' and you == 'Y':\n",
    "        score2.append(6)\n",
    "    elif opp == 'C' and you == 'Z':\n",
    "        score2.append(7)\n",
    "    else:\n",
    "        break\n",
    "        print(\"error\")\n",
    "print(sum(score2))"
   ]
  },
  {
   "cell_type": "code",
   "execution_count": null,
   "id": "d7f5ab5e",
   "metadata": {},
   "outputs": [],
   "source": []
  }
 ],
 "metadata": {
  "kernelspec": {
   "display_name": "Python 3",
   "language": "python",
   "name": "python3"
  },
  "language_info": {
   "codemirror_mode": {
    "name": "ipython",
    "version": 3
   },
   "file_extension": ".py",
   "mimetype": "text/x-python",
   "name": "python",
   "nbconvert_exporter": "python",
   "pygments_lexer": "ipython3",
   "version": "3.8.8"
  }
 },
 "nbformat": 4,
 "nbformat_minor": 5
}
