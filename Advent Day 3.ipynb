{
 "cells": [
  {
   "cell_type": "code",
   "execution_count": 113,
   "id": "f8f481ad",
   "metadata": {
    "scrolled": false
   },
   "outputs": [
    {
     "name": "stdout",
     "output_type": "stream",
     "text": [
      "7848\n"
     ]
    }
   ],
   "source": [
    "psum = 0\n",
    "with open(\"AC22D3Key.txt\", 'r') as f:\n",
    "    for count, line in enumerate(f):\n",
    "        comp1 = line[:len(line)//2]\n",
    "        comp2 = line[len(line)//2:]\n",
    "        for i, l in enumerate(comp1):\n",
    "            if l in comp2:\n",
    "                if l.isupper():\n",
    "                    p = ord(l) - 38\n",
    "                else:\n",
    "                    p = ord(l) - 96\n",
    "                psum += p\n",
    "                break\n",
    "print(psum)        "
   ]
  },
  {
   "cell_type": "code",
   "execution_count": 137,
   "id": "58334ad0",
   "metadata": {},
   "outputs": [
    {
     "name": "stdout",
     "output_type": "stream",
     "text": [
      "2616\n"
     ]
    }
   ],
   "source": [
    "psum = 0\n",
    "lset = []\n",
    "i = 0\n",
    "with open(\"AC22D3Key.txt\", 'r') as f:\n",
    "    for line in f.readlines():\n",
    "        line = line[:-1]\n",
    "        lset.append(line)\n",
    "    while i < len(lset):\n",
    "        for j in range(len(lset[i])):\n",
    "            if lset[i][j] in lset[i+1] and lset[i][j] in lset[i+2]:\n",
    "                if lset[i][j].isupper():\n",
    "                    p = ord(lset[i][j]) - 38\n",
    "                else:\n",
    "                    p = ord(lset[i][j]) - 96\n",
    "                psum += p\n",
    "                i += 3\n",
    "                break\n",
    "print(psum)"
   ]
  },
  {
   "cell_type": "code",
   "execution_count": null,
   "id": "80fe690f",
   "metadata": {},
   "outputs": [],
   "source": []
  }
 ],
 "metadata": {
  "kernelspec": {
   "display_name": "Python 3",
   "language": "python",
   "name": "python3"
  },
  "language_info": {
   "codemirror_mode": {
    "name": "ipython",
    "version": 3
   },
   "file_extension": ".py",
   "mimetype": "text/x-python",
   "name": "python",
   "nbconvert_exporter": "python",
   "pygments_lexer": "ipython3",
   "version": "3.8.8"
  }
 },
 "nbformat": 4,
 "nbformat_minor": 5
}
