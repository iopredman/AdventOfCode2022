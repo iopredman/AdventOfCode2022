{
 "cells": [
  {
   "cell_type": "code",
   "execution_count": 65,
   "id": "70f96400",
   "metadata": {},
   "outputs": [
    {
     "name": "stdout",
     "output_type": "stream",
     "text": [
      "475\n",
      "1000\n"
     ]
    }
   ],
   "source": [
    "import numpy as np\n",
    "#linenum = 0\n",
    "with open(\"AC22D4Key.txt\", 'r') as f:\n",
    "    npairs = 0\n",
    "    for line in f.readlines():\n",
    "        line = str(line).split(\"-\")\n",
    "        line = str(line).split(\",\")\n",
    "        line[3] = line[3][:-4]\n",
    "        for i in range(len(line)):\n",
    "            line[i] = line[i].replace(\"[\",\"\")\n",
    "            line[i] = line[i].replace(\"]\",\"\")\n",
    "            line[i] = line[i].replace(\"'\",\"\")\n",
    "            line[i] = line[i].replace(\" \",\"\")\n",
    "            line[i] = int(line[i])\n",
    "        A1 = list(np.arange(line[0],line[1]+1,1))\n",
    "        A2 = list(np.arange(line[2],line[3]+1,1))\n",
    "        if len(A1) > len(A2):\n",
    "            if all(elem in A1 for elem in A2):\n",
    "                #print(linenum, \"A2 in A1\", A1, A2)\n",
    "                npairs += 1\n",
    "        #elif len(A1) == len(A2):\n",
    "            #print(linenum, \"size_=_error\", A1, A2)\n",
    "        else:\n",
    "            if all(elem in A2 for elem in A1):\n",
    "                #print(linenum, \"A1 in A2\", A1, A2)\n",
    "                npairs += 1\n",
    "        #linenum += 1\n",
    "    print(npairs)\n",
    "    #print(linenum)"
   ]
  },
  {
   "cell_type": "code",
   "execution_count": 67,
   "id": "61793733",
   "metadata": {},
   "outputs": [
    {
     "name": "stdout",
     "output_type": "stream",
     "text": [
      "825\n"
     ]
    }
   ],
   "source": [
    "import numpy as np\n",
    "with open(\"AC22D4Key.txt\", 'r') as f:\n",
    "    npairs = 0\n",
    "    for line in f.readlines():\n",
    "        line = str(line).split(\"-\")\n",
    "        line = str(line).split(\",\")\n",
    "        line[3] = line[3][:-4]\n",
    "        for i in range(len(line)):\n",
    "            line[i] = line[i].replace(\"[\",\"\")\n",
    "            line[i] = line[i].replace(\"]\",\"\")\n",
    "            line[i] = line[i].replace(\"'\",\"\")\n",
    "            line[i] = line[i].replace(\" \",\"\")\n",
    "            line[i] = int(line[i])\n",
    "        A1 = list(np.arange(line[0],line[1]+1,1))\n",
    "        A2 = list(np.arange(line[2],line[3]+1,1))\n",
    "        for i in range(len(A1)):\n",
    "            if A1[i] in A2:\n",
    "                #print(A1, A2)\n",
    "                npairs += 1\n",
    "                break\n",
    "    print(npairs)"
   ]
  },
  {
   "cell_type": "code",
   "execution_count": null,
   "id": "60a37fc7",
   "metadata": {},
   "outputs": [],
   "source": []
  }
 ],
 "metadata": {
  "kernelspec": {
   "display_name": "Python 3",
   "language": "python",
   "name": "python3"
  },
  "language_info": {
   "codemirror_mode": {
    "name": "ipython",
    "version": 3
   },
   "file_extension": ".py",
   "mimetype": "text/x-python",
   "name": "python",
   "nbconvert_exporter": "python",
   "pygments_lexer": "ipython3",
   "version": "3.8.8"
  }
 },
 "nbformat": 4,
 "nbformat_minor": 5
}
