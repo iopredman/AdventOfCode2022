{
 "cells": [
  {
   "cell_type": "code",
   "execution_count": 45,
   "id": "c8c6516c",
   "metadata": {},
   "outputs": [
    {
     "name": "stdout",
     "output_type": "stream",
     "text": [
      "sub found at fmwg 1538\n"
     ]
    }
   ],
   "source": [
    "with open(\"AC22D6Key.txt\", 'r') as f:\n",
    "    code = f.readline()\n",
    "    s = 0\n",
    "    for count, letter in enumerate(code):\n",
    "        repeat = 0\n",
    "        sub = code[s:s+4]\n",
    "        for i in range(len(sub)):\n",
    "            if sub.count(sub[i]) == 1:\n",
    "                repeat += 1\n",
    "        if repeat == 4:\n",
    "            print(\"sub found at\", sub, s+4)\n",
    "            break\n",
    "        s += 1"
   ]
  },
  {
   "cell_type": "code",
   "execution_count": 54,
   "id": "d02dff52",
   "metadata": {},
   "outputs": [
    {
     "name": "stdout",
     "output_type": "stream",
     "text": [
      "sub found at cfnrbztvlwjhgm 2315\n"
     ]
    }
   ],
   "source": [
    "with open(\"AC22D6Key.txt\", 'r') as f:\n",
    "    code = f.readline()\n",
    "    s = 0\n",
    "    for count, letter in enumerate(code):\n",
    "        repeat = 0\n",
    "        sub = code[s:s+14]\n",
    "        for i in range(len(sub)):\n",
    "            if sub.count(sub[i]) == 1:\n",
    "                repeat += 1\n",
    "        if repeat == 14:\n",
    "            print(\"sub found at\", sub, s+14)\n",
    "            break\n",
    "        s += 1"
   ]
  }
 ],
 "metadata": {
  "kernelspec": {
   "display_name": "Python 3",
   "language": "python",
   "name": "python3"
  },
  "language_info": {
   "codemirror_mode": {
    "name": "ipython",
    "version": 3
   },
   "file_extension": ".py",
   "mimetype": "text/x-python",
   "name": "python",
   "nbconvert_exporter": "python",
   "pygments_lexer": "ipython3",
   "version": "3.8.8"
  }
 },
 "nbformat": 4,
 "nbformat_minor": 5
}
