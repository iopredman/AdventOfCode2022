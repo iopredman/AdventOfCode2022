{
 "cells": [
  {
   "cell_type": "code",
   "execution_count": 1,
   "id": "9de22a49",
   "metadata": {},
   "outputs": [],
   "source": [
    "import docx\n",
    "import numpy"
   ]
  },
  {
   "cell_type": "code",
   "execution_count": 5,
   "id": "d28de4d9",
   "metadata": {},
   "outputs": [],
   "source": [
    "data = docx.Document('Advent22DataDay1.docx')\n",
    "paras = [p.text for p in data.paragraphs]\n",
    "enumdata = []\n",
    "finaldata = []\n",
    "\n",
    "for p in data.paragraphs:\n",
    "    for i in range(len(paras)):\n",
    "        try:\n",
    "            t = int(paras[i])\n",
    "            enumdata.append(t)\n",
    "        except:\n",
    "            t = 0\n",
    "            enumdata.append(t)\n",
    "    k = 0\n",
    "for i in range(len(enumdata)):\n",
    "    \n",
    "    if enumdata[i] != 0:\n",
    "        k += enumdata[i]\n",
    "    else:\n",
    "        finaldata.append(k)\n",
    "        k = 0\n",
    "maxelf = max(finaldata)"
   ]
  },
  {
   "cell_type": "code",
   "execution_count": 6,
   "id": "86fdea08",
   "metadata": {},
   "outputs": [
    {
     "name": "stdout",
     "output_type": "stream",
     "text": [
      "75622\n"
     ]
    }
   ],
   "source": [
    "print(maxelf)"
   ]
  },
  {
   "cell_type": "code",
   "execution_count": 29,
   "id": "c4e22b38",
   "metadata": {},
   "outputs": [
    {
     "name": "stdout",
     "output_type": "stream",
     "text": [
      "[75622, 69383, 68154]\n",
      "213159\n"
     ]
    }
   ],
   "source": [
    "sorteddata = sorted(finaldata)\n",
    "L = len(finaldata)\n",
    "N = 3\n",
    "topelves = []\n",
    "i = 1\n",
    "while i < N+1:\n",
    "    topelves.append(sorteddata[L-i])\n",
    "    i += 1\n",
    "print(topelves)\n",
    "print(sum(topelves))\n"
   ]
  },
  {
   "cell_type": "code",
   "execution_count": null,
   "id": "38f806e1",
   "metadata": {},
   "outputs": [],
   "source": []
  }
 ],
 "metadata": {
  "kernelspec": {
   "display_name": "Python 3",
   "language": "python",
   "name": "python3"
  },
  "language_info": {
   "codemirror_mode": {
    "name": "ipython",
    "version": 3
   },
   "file_extension": ".py",
   "mimetype": "text/x-python",
   "name": "python",
   "nbconvert_exporter": "python",
   "pygments_lexer": "ipython3",
   "version": "3.8.8"
  }
 },
 "nbformat": 4,
 "nbformat_minor": 5
}
